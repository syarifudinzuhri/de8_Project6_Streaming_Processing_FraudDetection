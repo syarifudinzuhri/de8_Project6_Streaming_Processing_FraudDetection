{
 "cells": [
  {
   "cell_type": "code",
   "execution_count": 2,
   "metadata": {},
   "outputs": [
    {
     "name": "stderr",
     "output_type": "stream",
     "text": [
      "C:\\Users\\10698\\Anaconda3\\lib\\site-packages\\sklearn\\utils\\validation.py:63: DataConversionWarning: A column-vector y was passed when a 1d array was expected. Please change the shape of y to (n_samples, ), for example using ravel().\n",
      "  return f(*args, **kwargs)\n"
     ]
    }
   ],
   "source": [
    "#!python3\n",
    "\n",
    "import pickle\n",
    "import pandas\n",
    "from sklearn.linear_model import LogisticRegression\n",
    "\n",
    "if __name__ == \"__main__\":\n",
    "    \n",
    "    df = pandas.read_csv('Fraud.csv')\n",
    "    \n",
    "    d_devices = pandas.get_dummies(df['device'])\n",
    "    d_devices.insert(0,'device',df['device'])\n",
    "    d_devices.drop_duplicates().to_json('dict_devices.json', orient='records')\n",
    "\n",
    "    d_newbalanceDest = pandas.get_dummies(df['newbalanceDest'])\n",
    "    d_newbalanceDest.insert(0,'newbalanceDest',df['newbalanceDest'])\n",
    "    d_newbalanceDest.drop_duplicates().to_json('dict_newbalanceDest.json', orient='records')\n",
    "\n",
    "    df = pandas.concat([df,pandas.get_dummies(df['device'])], axis=1).drop('device', axis=1)\n",
    "    df = pandas.concat([df,pandas.get_dummies(df['newbalanceDest'])], axis=1).drop('newbalanceDest', axis=1)\n",
    "\n",
    "    X = df.drop(['isFraud'], axis=1).values.tolist()\n",
    "    y = df[['isFraud']].values.tolist()\n",
    "    \n",
    "    model = LogisticRegression()\n",
    "    model.fit(X,y)\n",
    "    with open('modelFraud.pkl','wb') as file:\n",
    "        pickle.dump(model, file)"
   ]
  }
 ],
 "metadata": {
  "kernelspec": {
   "display_name": "Python 3",
   "language": "python",
   "name": "python3"
  },
  "language_info": {
   "codemirror_mode": {
    "name": "ipython",
    "version": 3
   },
   "file_extension": ".py",
   "mimetype": "text/x-python",
   "name": "python",
   "nbconvert_exporter": "python",
   "pygments_lexer": "ipython3",
   "version": "3.8.5"
  }
 },
 "nbformat": 4,
 "nbformat_minor": 4
}
